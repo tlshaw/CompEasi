{
 "cells": [
  {
   "cell_type": "markdown",
   "metadata": {},
   "source": [
    "Navigate into the folder that you're setting up using terminal or cmd.  Type  \n",
    "```git init```  \n",
    "to initialize git for the project.  This creates a bunch of files that should be hidden from you that allows git to do its job."
   ]
  },
  {
   "cell_type": "markdown",
   "metadata": {},
   "source": [
    "Files need to be added to git or \"staged.\" So that git knows that you want those files to be a part of your project.  \n",
    "You can add files to git by typing  \n",
    "```git add filename```  \n",
    "If you want to add everything, you can just type  \n",
    "```git add .```"
   ]
  },
  {
   "cell_type": "markdown",
   "metadata": {},
   "source": [
    "Now you need to commit changes. Which means that you're creating a code checkpoint that you'll always be able to go back to if something goes horribly wrong.  \n",
    "You can do this by typing  \n",
    "```git commit -m \"Helpful message\"```  \n",
    "We include a short helpful message so that we can know what we did with this commit"
   ]
  },
  {
   "cell_type": "markdown",
   "metadata": {},
   "source": [
    "We've created a checkpoint for our code that we can always go back to, but this code and this checkpoint or \"commit\" only live on our machine. To get it online we'll need to \"push\" this commit to an online database or repository."
   ]
  },
  {
   "cell_type": "markdown",
   "metadata": {},
   "source": [
    "After creating an account on github, create a repository and save its URL. "
   ]
  },
  {
   "cell_type": "markdown",
   "metadata": {},
   "source": [
    "First we need to tell git that this is the URL that we want to send our code to. We do this by typing:  \n",
    "```git remote add origin yourURL```  \n",
    "\"origin\" is just a name with give to this specific online repository. We could have multiple repos that we send code to and we would give them all different names here."
   ]
  },
  {
   "cell_type": "markdown",
   "metadata": {},
   "source": [
    "Finally we just need to send the code to the \"origin\" repo. We do this by typing:  \n",
    "```git push -u origin master```"
   ]
  },
  {
   "cell_type": "markdown",
   "metadata": {},
   "source": [
    "We tell git that we want to send the code to the \"origin\" repo. We also tell git that we want to push to the master branch which is the main part where your code lives. After you type your username and password, your code will live on the web."
   ]
  },
  {
   "cell_type": "code",
   "execution_count": null,
   "metadata": {},
   "outputs": [],
   "source": []
  }
 ],
 "metadata": {
  "kernelspec": {
   "display_name": "Python 3",
   "language": "python",
   "name": "python3"
  },
  "language_info": {
   "codemirror_mode": {
    "name": "ipython",
    "version": 3
   },
   "file_extension": ".py",
   "mimetype": "text/x-python",
   "name": "python",
   "nbconvert_exporter": "python",
   "pygments_lexer": "ipython3",
   "version": "3.7.0"
  }
 },
 "nbformat": 4,
 "nbformat_minor": 2
}
